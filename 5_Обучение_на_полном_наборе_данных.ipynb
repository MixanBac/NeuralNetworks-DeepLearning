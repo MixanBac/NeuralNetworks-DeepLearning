{
  "nbformat": 4,
  "nbformat_minor": 0,
  "metadata": {
    "colab": {
      "provenance": []
    },
    "kernelspec": {
      "name": "python3",
      "display_name": "Python 3"
    },
    "language_info": {
      "name": "python"
    }
  },
  "cells": [
    {
      "cell_type": "code",
      "execution_count": null,
      "metadata": {
        "id": "5gjBriIhfbcD"
      },
      "outputs": [],
      "source": []
    },
    {
      "cell_type": "markdown",
      "source": [
        "1. Задача о светофоре. Обучение на 1 точке данных"
      ],
      "metadata": {
        "id": "KJfFFE1mi9lV"
      }
    },
    {
      "cell_type": "code",
      "execution_count": null,
      "metadata": {
        "colab": {
          "base_uri": "https://localhost:8080/"
        },
        "outputId": "829b0594-93a3-494a-8ac1-9905a6c20f6b",
        "id": "QbhIXMsRI4G6"
      },
      "outputs": [
        {
          "output_type": "stream",
          "name": "stdout",
          "text": [
            "Weight corrections: [-0.4 -0.  -0.4]\n",
            "Error:0.03999999999999998 Prediction:-0.19999999999999996\n",
            "Weight corrections: [-0.24 -0.   -0.24]\n",
            "Error:0.014399999999999972 Prediction:-0.11999999999999988\n",
            "Weight corrections: [-0.144 -0.    -0.144]\n",
            "Error:0.005183999999999977 Prediction:-0.07199999999999984\n",
            "Weight corrections: [-0.0864 -0.     -0.0864]\n",
            "Error:0.0018662399999999919 Prediction:-0.043199999999999905\n",
            "Weight corrections: [-0.05184 -0.      -0.05184]\n",
            "Error:0.000671846399999997 Prediction:-0.025919999999999943\n",
            "Weight corrections: [-0.031104 -0.       -0.031104]\n",
            "Error:0.00024186470400000033 Prediction:-0.01555200000000001\n",
            "Weight corrections: [-0.0186624 -0.        -0.0186624]\n",
            "Error:8.707129344000177e-05 Prediction:-0.009331200000000095\n",
            "Weight corrections: [-0.01119744 -0.         -0.01119744]\n",
            "Error:3.134566563840064e-05 Prediction:-0.005598720000000057\n",
            "Weight corrections: [-0.00671846 -0.         -0.00671846]\n",
            "Error:1.1284439629823931e-05 Prediction:-0.0033592319999999898\n",
            "Weight corrections: [-0.00403108 -0.         -0.00403108]\n",
            "Error:4.062398266736973e-06 Prediction:-0.0020155392000000827\n"
          ]
        }
      ],
      "source": [
        "import numpy as np\n",
        "weights = np.array([0.5,0.48,-0.7]) # начальные веса\n",
        "learning_rate = 0.1\n",
        "\n",
        "#набор данных, состоящий из 6 наблюдений\n",
        "streetlights = np.array( [ [ 1, 0, 1 ],\n",
        "                           [ 0, 1, 1 ],\n",
        "                           [ 0, 0, 1 ],\n",
        "                           [ 1, 1, 1 ],\n",
        "                           [ 0, 1, 1 ],\n",
        "                           [ 1, 0, 1 ] ] )\n",
        "#метки класса для 6 наблюдений\n",
        "walk_vs_stop = np.array( [ 0, 1, 0, 1, 1, 0 ] )\n",
        "\n",
        "input = streetlights[0] # [1,0,1]\n",
        "goal_prediction = walk_vs_stop[0] #  0 - стоять, 1 - идти\n",
        "\n",
        "for iteration in range(10):\n",
        "    prediction = input.dot(weights)\n",
        "    error = (prediction - goal_prediction) ** 2\n",
        "\n",
        "    weight_corrections = 2* (prediction - goal_prediction) * input #получаем вектор из 3х величин для коррекции 3х весов\n",
        "    print(\"Weight corrections: \"+ str(weight_corrections))\n",
        "\n",
        "    weights = weights - (learning_rate *  weight_corrections)\n",
        "\n",
        "    print(\"Error:\" + str(error) + \" Prediction:\" + str(prediction))"
      ]
    },
    {
      "cell_type": "markdown",
      "source": [
        "2. Задача о светофоре.Реализуйте стохастический градиентный спуск на полном наборе данных. Выведите веса сети после обучения. Постройте график error/iteration."
      ],
      "metadata": {
        "id": "GOj3YyuhjFMg"
      }
    },
    {
      "cell_type": "code",
      "source": [
        "import numpy as np\n",
        "import random\n",
        "\n",
        "weights = np.array([0.5,0.48,-0.7])\n",
        "learning_rate = 0.1\n",
        "\n",
        "streetlights = np.array( [[ 1, 0, 1 ],\n",
        "                          [ 0, 1, 1 ],\n",
        "                          [ 0, 0, 1 ],\n",
        "                          [ 1, 1, 1 ],\n",
        "                          [ 0, 1, 1 ],\n",
        "                          [ 1, 0, 1 ] ] )\n",
        "\n",
        "walk_vs_stop = np.array( [ 0, 1, 0, 1, 1, 0 ] )\n",
        "error_ = []\n",
        "\n",
        "n = 100\n",
        "\n",
        "i = np.linspace(1, n, n)\n",
        "\n",
        "for iteration in range(n):\n",
        "    r = random.randint(0, 5) # генерация случайного числа от 0 до 5 для стохастического ГС\n",
        "    input = streetlights[r] # [1,0,1] берем значения весов каждого набора цветов и его значение\n",
        "    goal_prediction = walk_vs_stop[r]\n",
        "\n",
        "    prediction = input.dot(weights)\n",
        "    error = (prediction - goal_prediction) ** 2\n",
        "    error_.append(error)\n",
        "\n",
        "    weight_corrections = 2* (prediction - goal_prediction) * input #получаем вектор из 3х величин для коррекции 3х весов\n",
        "    #print(\"Weight corrections: \"+ str(weight_corrections))\n",
        "\n",
        "    weights = weights - (learning_rate *  weight_corrections)\n",
        "\n",
        "    print(\"Error:\" + str(error) + \" Prediction:\" + str(prediction))\n",
        "print(\"Weights:\" + str(weights))"
      ],
      "metadata": {
        "colab": {
          "base_uri": "https://localhost:8080/"
        },
        "id": "_TIW7rFLZlDa",
        "outputId": "9c831f5e-ee3f-4679-826f-f099867fb8f5"
      },
      "execution_count": null,
      "outputs": [
        {
          "output_type": "stream",
          "name": "stdout",
          "text": [
            "Error:1.4884 Prediction:-0.21999999999999997\n",
            "Error:0.0019360000000000035 Prediction:0.04400000000000004\n",
            "Error:0.54878464 Prediction:0.2592\n",
            "Error:0.1975624704 Prediction:0.55552\n",
            "Error:0.07112248934399996 Prediction:0.7333120000000001\n",
            "Error:0.10968496144384 Prediction:1.3311872\n",
            "Error:0.0579094577299456 Prediction:-0.24064384\n",
            "Error:0.05971127787382376 Prediction:0.755641088\n",
            "Error:0.07914053189838831 Prediction:0.2813192704\n",
            "Error:0.028490591483419783 Prediction:0.16879156223999997\n",
            "Error:0.009663456165963322 Prediction:1.098302879744\n",
            "Error:0.0641740785277759 Prediction:-0.2533260320768\n",
            "Error:0.012683037327959164 Prediction:0.11261899186176\n",
            "Error:0.050708114901240255 Prediction:-0.225184624033792\n",
            "Error:0.04111986336067778 Prediction:0.7972196672241665\n",
            "Error:0.023459329285482677 Prediction:0.15316438647898106\n",
            "Error:0.02319561804357075 Prediction:0.8476989230387035\n",
            "Error:0.014971687507604201 Prediction:0.12235884727964791\n",
            "Error:0.01483498586938699 Prediction:1.1217989567664148\n",
            "Error:0.0270839426373818 Prediction:0.8354280016607266\n",
            "Error:0.024236715654090045 Prediction:-0.15568145571676173\n",
            "Error:0.007875926436697961 Prediction:0.08874641647242981\n",
            "Error:0.002835333517211265 Prediction:0.053247849883457876\n",
            "Error:0.02339187259444533 Prediction:-0.15294401784458694\n",
            "Error:0.014970798460445012 Prediction:-0.12235521427566956\n",
            "Error:0.007570488878829119 Prediction:0.087008556354126\n",
            "Error:0.013290834747926215 Prediction:-0.11528588269136085\n",
            "Error:0.005664415359332274 Prediction:0.07526231035074776\n",
            "Error:0.0020391895293596194 Prediction:0.045157386210448666\n",
            "Error:0.0007341082305694637 Prediction:0.027094431726269214\n",
            "Error:0.014818565836950688 Prediction:-0.1217315318105818\n",
            "Error:0.0016359572798717188 Prediction:0.9595530312647323\n",
            "Error:0.0005889446207538242 Prediction:0.9757318187588393\n",
            "Error:0.007130484372953014 Prediction:-0.08444219545317977\n",
            "Error:5.417397511268573e-06 Prediction:1.0023275303459394\n",
            "Error:1.9502631040569344e-06 Prediction:1.0013965182075637\n",
            "Error:7.020947174604964e-07 Prediction:1.0008379109245382\n",
            "Error:0.0048333144056342805 Prediction:0.06952204258819127\n",
            "Error:0.0017399931860283399 Prediction:0.04171322555291475\n",
            "Error:0.0006263975469702018 Prediction:0.025027935331748838\n",
            "Error:0.009162086558575937 Prediction:-0.09571878895272305\n",
            "Error:0.001166941057638407 Prediction:0.03416051898959392\n",
            "Error:0.006956750162251872 Prediction:-0.08340713496009722\n",
            "Error:5.031887220671149e-06 Prediction:1.0022431868447972\n",
            "Error:1.8114793994418527e-06 Prediction:1.0013459121068784\n",
            "Error:0.0045486294364998105 Prediction:-0.06744352775841289\n",
            "Error:0.0029111228393598784 Prediction:-0.05395482220673031\n",
            "Error:0.01663859129880853 Prediction:1.1289906636110092\n",
            "Error:0.0007027296357938351 Prediction:0.973490951812752\n",
            "Error:0.00025298266888578136 Prediction:0.9840945710876512\n",
            "Error:0.00031068358086537004 Prediction:0.017626218563985017\n",
            "Error:0.00017078571996061596 Prediction:0.9869314989397936\n",
            "Error:0.0001739610993477663 Prediction:0.013189431350432296\n",
            "Error:0.0037777245538144007 Prediction:1.061463196742558\n",
            "Error:0.005824920102862144 Prediction:-0.07632116418702052\n",
            "Error:0.0003920412975279231 Prediction:0.9801999672341705\n",
            "Error:0.0001411348671100518 Prediction:0.9881199803405023\n",
            "Error:0.0027585113766273703 Prediction:1.0525215325045583\n",
            "Error:0.0002585660644464513 Prediction:-0.016079989566117614\n",
            "Error:9.308378320072247e-05 Prediction:-0.009647993739670568\n",
            "Error:0.0005285873747670862 Prediction:0.9770089718636359\n",
            "Error:0.0001902914549161486 Prediction:0.9862053831181816\n",
            "Error:6.850492376981496e-05 Prediction:0.9917232298709089\n",
            "Error:0.0024329331706394834 Prediction:1.0493247723830479\n",
            "Error:0.000609890985147884 Prediction:0.9753040289693261\n",
            "Error:0.00013379613586054982 Prediction:-0.011567027961432004\n",
            "Error:0.00015635444310049584 Prediction:0.987495822973882\n",
            "Error:0.0015395248545852355 Prediction:1.0392367793605086\n",
            "Error:0.0004053817055972781 Prediction:-0.020134093115839066\n",
            "Error:0.0030249124622756932 Prediction:-0.054999204196749\n",
            "Error:1.1677288433939599e-06 Prediction:-0.0010806150301536435\n",
            "Error:6.327304398566521e-05 Prediction:0.9920455645086741\n",
            "Error:2.2778295834838842e-05 Prediction:0.9952273387052045\n",
            "Error:3.5987999892011958e-06 Prediction:0.0018970503391320948\n",
            "Error:1.2955679961124179e-06 Prediction:0.0011382302034792513\n",
            "Error:1.2045431450932607e-05 Prediction:0.9965293471146004\n",
            "Error:0.0016358322815697203 Prediction:1.0404454234935143\n",
            "Error:0.0002190725818793888 Prediction:-0.01480110069823825\n",
            "Error:7.886612947658007e-05 Prediction:-0.008880660418942955\n",
            "Error:2.8391806611568763e-05 Prediction:-0.005328396251365768\n",
            "Error:1.022105038016472e-05 Prediction:-0.003197037750819455\n",
            "Error:0.0018317023749406392 Prediction:-0.04279839220041612\n",
            "Error:4.410893500509902e-05 Prediction:0.006641455789591542\n",
            "Error:2.1047310802562852e-05 Prediction:0.9954122651773928\n",
            "Error:7.577031888922504e-06 Prediction:0.9972473591064357\n",
            "Error:0.0014364322743611049 Prediction:1.0379002938558675\n",
            "Error:0.000282633326775753 Prediction:0.9831882979215145\n",
            "Error:0.0014681655239560361 Prediction:-0.038316648130493305\n",
            "Error:1.7384451940482468e-06 Prediction:0.0013185011164379978\n",
            "Error:7.2220749247045476e-06 Prediction:0.9973126081557196\n",
            "Error:2.599946972893494e-06 Prediction:0.9983875648934318\n",
            "Error:0.0009449880747833811 Prediction:1.030740658333604\n",
            "Error:0.00011332022498979705 Prediction:-0.010645197273409124\n",
            "Error:4.07952809963269e-05 Prediction:-0.0063871183640454715\n",
            "Error:0.0010757561567479026 Prediction:-0.03279872187674243\n",
            "Error:1.087361766979758e-05 Prediction:0.9967024831054568\n",
            "Error:0.0006543094963828957 Prediction:-0.02557947412248531\n",
            "Error:7.229882477141598e-05 Prediction:0.008502871560326898\n",
            "Error:2.0644240557353934e-06 Prediction:1.0014368103757056\n",
            "Error:7.431926600647417e-07 Prediction:1.0008620862254234\n",
            "Weights:[ 0.02726588  1.02314118 -0.02262393]\n"
          ]
        }
      ]
    },
    {
      "cell_type": "code",
      "source": [
        "import matplotlib.pyplot as plt\n",
        "x = i\n",
        "y = np.array(error_)\n",
        "plt.plot(x, y)\n",
        "plt.grid(True)\n",
        "plt.xlabel('iteration')\n",
        "plt.ylabel('error')"
      ],
      "metadata": {
        "colab": {
          "base_uri": "https://localhost:8080/",
          "height": 467
        },
        "id": "GbPtnsj2JV3z",
        "outputId": "519c55b2-475c-4a50-dbcf-b6295fc1e45c"
      },
      "execution_count": null,
      "outputs": [
        {
          "output_type": "execute_result",
          "data": {
            "text/plain": [
              "Text(0, 0.5, 'error')"
            ]
          },
          "metadata": {},
          "execution_count": 3
        },
        {
          "output_type": "display_data",
          "data": {
            "text/plain": [
              "<Figure size 640x480 with 1 Axes>"
            ],
            "image/png": "[encoded data removed]"
          },
          "metadata": {}
        }
      ]
    },
    {
      "cell_type": "markdown",
      "source": [
        "3. Попробуйте получить прогноз для какого-нибудь примера на ваше усмотрение. Попробуйте получить прогноз для какого-нибудь примера, где яркость секций светоыора измеряется от 0 до 1. Например, [0.9, 0.1, 0.7]. Сделайте выводы о полученных прогнозах сети."
      ],
      "metadata": {
        "id": "K4EwHhZ_KLZn"
      }
    },
    {
      "cell_type": "code",
      "source": [
        "input = np.array([0.9, 0.1, 0.7]) # подстановка значений из примера\n",
        "prediction = input.dot(weights)\n",
        "print(prediction)"
      ],
      "metadata": {
        "id": "x8XGfjVaJm6D",
        "colab": {
          "base_uri": "https://localhost:8080/"
        },
        "outputId": "30c2e004-403b-4a09-bae1-afa6847b5667"
      },
      "execution_count": null,
      "outputs": [
        {
          "output_type": "stream",
          "name": "stdout",
          "text": [
            "0.11101665430698253\n"
          ]
        }
      ]
    },
    {
      "cell_type": "markdown",
      "source": [
        "Ближе к 0, значит переходить по дороге не стоит."
      ],
      "metadata": {
        "id": "rVq8XRNVIMzk"
      }
    },
    {
      "cell_type": "markdown",
      "source": [
        "4. Реализуйте полный градиентный спуск или стохастический градиентный спуск по мини-батчам (размер батча = 2) на полном наборе данных. Выведите веса сети после обучения. Постройте график error/iteration."
      ],
      "metadata": {
        "id": "bWYDkrvNKkFX"
      }
    },
    {
      "cell_type": "code",
      "source": [
        "import numpy as np\n",
        "import random\n",
        "\n",
        "weights = np.array([0.5,0.48,-0.7])\n",
        "learning_rate = 0.1\n",
        "\n",
        "streetlights = np.array( [[ 1, 0, 1 ],\n",
        "                          [ 0, 1, 1 ],\n",
        "                          [ 0, 0, 1 ],\n",
        "                          [ 1, 1, 1 ],\n",
        "                          [ 0, 1, 1 ],\n",
        "                          [ 1, 0, 1 ] ] )\n",
        "\n",
        "walk_vs_stop = np.array( [ 0, 1, 0, 1, 1, 0 ] )\n",
        "error_ = []\n",
        "\n",
        "mean_weight_corrections = 0\n",
        "\n",
        "n = 10\n",
        "\n",
        "i = np.linspace(1, n, n)\n",
        "for iteration in range(n):\n",
        "  sum_weight_corrections = np.array([0,0,0]) # Суммарные веса\n",
        "  sum_error = np.array([0,0,0]) # Суммарная ошибка\n",
        "\n",
        "  prediction = streetlights.dot(weights)\n",
        "\n",
        "  error = (prediction - walk_vs_stop) ** 2\n",
        "  error = error.mean()\n",
        "  weight_corrections = (2*(prediction -  walk_vs_stop) / len(prediction)).dot(streetlights) #получаем вектор из 3х величин для коррекции 3х весов\n",
        "  #print(\"Weight corrections: \"+ str(weight_corrections))\n",
        "  sum_weight_corrections = sum_weight_corrections + weight_corrections\n",
        "  print(\"Error:\" + str(error) + \" Prediction:\" + str(prediction))\n",
        "\n",
        "  weights = weights - (learning_rate *  weight_corrections)\n",
        "\n",
        "  error_.append(error)\n",
        "  print('================================================')\n",
        "  print(\"Weights:\" + str(weights))"
      ],
      "metadata": {
        "id": "fADAF5YuLkj0",
        "colab": {
          "base_uri": "https://localhost:8080/"
        },
        "outputId": "a1ca63ab-823e-4bda-b7ca-76b577c5cbf1"
      },
      "execution_count": null,
      "outputs": [
        {
          "output_type": "stream",
          "name": "stdout",
          "text": [
            "Error:0.6775333333333333 Prediction:[-0.2  -0.22 -0.7   0.28 -0.22 -0.2 ]\n",
            "================================================\n",
            "Weights:[ 0.53733333  0.58533333 -0.558     ]\n",
            "Error:0.3989823703703703 Prediction:[-0.02066667  0.02733333 -0.558       0.56466667  0.02733333 -0.02066667]\n",
            "================================================\n",
            "Weights:[ 0.55322222  0.66468889 -0.45866667]\n",
            "Error:0.2578368796707819 Prediction:[ 0.09455556  0.20602222 -0.45866667  0.75924444  0.20602222  0.09455556]\n",
            "================================================\n",
            "Weights:[ 0.5549437   0.72564593 -0.38872444]\n",
            "Error:0.18290062660374937 Prediction:[ 0.16621926  0.33692148 -0.38872444  0.89186519  0.33692148  0.16621926]\n",
            "================================================\n",
            "Weights:[ 0.54746691  0.77345565 -0.33903852]\n",
            "Error:0.1403213414982968 Prediction:[ 0.2084284   0.43441714 -0.33903852  0.98188405  0.43441714  0.2084284 ]\n",
            "================================================\n",
            "Weights:[ 0.53417555  0.81176504 -0.30332307]\n",
            "Error:0.11394424409100597 Prediction:[ 0.23085248  0.50844197 -0.30332307  1.04261752  0.50844197  0.23085248]\n",
            "================================================\n",
            "Weights:[ 0.5173648   0.84311499 -0.27725252]\n",
            "Error:0.09600905572448903 Prediction:[ 0.24011229  0.56586248 -0.27725252  1.08322728  0.56586248  0.24011229]\n",
            "================================================\n",
            "Weights:[ 0.49858307  0.86928325 -0.25784999]\n",
            "Error:0.08274387800974069 Prediction:[ 0.24073308  0.61143326 -0.25784999  1.11001633  0.61143326  0.24073308]\n",
            "================================================\n",
            "Weights:[ 0.47886699  0.89152049 -0.24306663]\n",
            "Error:0.0722774966219206 Prediction:[ 0.23580036  0.64845386 -0.24306663  1.12732086  0.64845386  0.23580036]\n",
            "================================================\n",
            "Weights:[ 0.45890294  0.91071287 -0.23149205]\n",
            "Error:0.06364945477685387 Prediction:[ 0.22741089  0.67922082 -0.23149205  1.13812376  0.67922082  0.22741089]\n",
            "================================================\n",
            "Weights:[ 0.43913809  0.92749403 -0.22215522]\n"
          ]
        }
      ]
    },
    {
      "cell_type": "code",
      "source": [
        "import matplotlib.pyplot as plt\n",
        "x = i\n",
        "y = np.array(error_)\n",
        "plt.plot(x, y)\n",
        "plt.grid(True)\n",
        "plt.xlabel('iteration')\n",
        "plt.ylabel('error')"
      ],
      "metadata": {
        "colab": {
          "base_uri": "https://localhost:8080/",
          "height": 506
        },
        "id": "KrIKblV5LOMA",
        "outputId": "2b5b6ae9-6512-4076-dee9-2d27ba8cc0d1"
      },
      "execution_count": null,
      "outputs": [
        {
          "output_type": "stream",
          "name": "stdout",
          "text": [
            "[0.6775333333333333, 0.3989823703703703, 0.2578368796707819, 0.18290062660374937, 0.1403213414982968, 0.11394424409100597, 0.09600905572448903, 0.08274387800974069, 0.0722774966219206, 0.06364945477685387]\n"
          ]
        },
        {
          "output_type": "execute_result",
          "data": {
            "text/plain": [
              "Text(0, 0.5, 'error')"
            ]
          },
          "metadata": {},
          "execution_count": 4
        },
        {
          "output_type": "display_data",
          "data": {
            "text/plain": [
              "<Figure size 640x480 with 1 Axes>"
            ],
            "image/png": "[encoded data removed]"
          },
          "metadata": {}
        }
      ]
    }
  ]
}